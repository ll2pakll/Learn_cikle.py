{
 "cells": [
  {
   "cell_type": "code",
   "execution_count": 2,
   "id": "2e91f3dc",
   "metadata": {},
   "outputs": [],
   "source": [
    "import pandas as pd"
   ]
  },
  {
   "cell_type": "code",
   "execution_count": 3,
   "id": "0f21ceea",
   "metadata": {},
   "outputs": [
    {
     "name": "stdout",
     "output_type": "stream",
     "text": [
      "0     5\n",
      "1     6\n",
      "2     7\n",
      "3     8\n",
      "4     9\n",
      "5    10\n",
      "dtype: int64\n"
     ]
    }
   ],
   "source": [
    "my_series = pd.Series([5, 6, 7, 8, 9, 10])\n",
    "print(my_series)"
   ]
  },
  {
   "cell_type": "code",
   "execution_count": null,
   "id": "17046144",
   "metadata": {},
   "outputs": [],
   "source": []
  }
 ],
 "metadata": {
  "kernelspec": {
   "display_name": "Python 3 (ipykernel)",
   "language": "python",
   "name": "python3"
  },
  "language_info": {
   "codemirror_mode": {
    "name": "ipython",
    "version": 3
   },
   "file_extension": ".py",
   "mimetype": "text/x-python",
   "name": "python",
   "nbconvert_exporter": "python",
   "pygments_lexer": "ipython3",
   "version": "3.8.12"
  }
 },
 "nbformat": 4,
 "nbformat_minor": 5
}
